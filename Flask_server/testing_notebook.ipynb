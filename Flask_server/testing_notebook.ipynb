{
 "cells": [
  {
   "cell_type": "code",
   "execution_count": 1,
   "metadata": {
    "collapsed": true
   },
   "outputs": [
    {
     "name": "stdout",
     "output_type": "stream",
     "text": [
      "hello\n"
     ]
    }
   ],
   "source": [
    "print(\"hello\")"
   ]
  },
  {
   "cell_type": "code",
   "execution_count": 7,
   "outputs": [
    {
     "data": {
      "text/plain": "                                                   id        date  \\\n0   911truthorg--2020-04-26--9/11 Families, Expert...  2020-04-26   \n1   911truthorg--2020-04-27--Barr, Grenell block 9...  2020-04-27   \n2   911truthorg--2020-04-29--9/11 Truth and Giulie...  2020-04-29   \n3   911truthorg--2020-08-25--“Fraud and Apocalypse...  2020-08-25   \n4   911truthorg--2020-08-25--The 16th Annual 9/11 ...  2020-08-25   \n5   911truthorg--2020-09-03--International Relatio...  2020-09-03   \n6   911truthorg--2020-09-04--Justice Rising: Live ...  2020-09-04   \n7   911truthorg--2020-09-04--FBI agent sought CIA ...  2020-09-04   \n8   911truthorg--2020-10-23--AA Flight 77 at the P...  2020-10-23   \n9   911truthorg--2020-12-08--Fascinating Forgotten...  2020-12-08   \n10  911truthorg--2020-12-08--Join our Live Zoom Pr...  2020-12-08   \n\n         source                                              title  \\\n0   911truthorg  9/11 Families, Experts Mount Unprecedented Cha...   \n1   911truthorg  Barr, Grenell block 9/11 families access to ev...   \n2   911truthorg  9/11 Truth and Giulietto Chiesa, His Legacy Wi...   \n3   911truthorg  “Fraud and Apocalypse” Presentation by Richard...   \n4   911truthorg  The 16th Annual 9/11 Truth Film Festival: A Ba...   \n5   911truthorg  International Relations Scholars Fall Silent o...   \n6   911truthorg                    Justice Rising: Live Conference   \n7   911truthorg  FBI agent sought CIA help to investigate Saras...   \n8   911truthorg                       AA Flight 77 at the Pentagon   \n9   911truthorg  Fascinating Forgotten Facts about 9/11: Zoom P...   \n10  911truthorg  Join our Live Zoom Presentation: Fascinating F...   \n\n                                              content               author  \\\n0   Family members of those who died on September ...         Richard Gage   \n1   U.S. Attorney General William Barr and acting ...      Dan Christensen   \n2   The 9/11 Consensus Panel mourns the loss of th...  Elizabeth Woodworth   \n3   Professor Richard Behan to Discuss His New Boo...           Fran Shure   \n4   This year ’ s Film Festival is dedicated to th...      Carol Brouillet   \n5   International Relations ( IR ) scholars uncrit...         David Hughes   \n6   Architects & Engineers for 9/11 Truth is thril...                Staff   \n7   The FBI agent who led the post 9/11 investigat...      Dan Christensen   \n8   AA Flight 77 at the Pentagon Panel Presentatio...           Fran Shure   \n9   Colorado 9/11 Truth and 911Truth.Org will host...                Staff   \n10  Colorado 9/11 Truth and 911Truth.Org will host...                Staff   \n\n                                                  url  \\\n0   https://911truth.org/9-11-families-experts-mou...   \n1   https://911truth.org/barr-grenell-block-9-11-f...   \n2   https://911truth.org/9-11-truth-and-giulietto-...   \n3   https://911truth.org/fraud-and-apocalypse-pres...   \n4   https://911truth.org/the-16th-annual-9-11-trut...   \n5   https://911truth.org/international-relations-s...   \n6   https://911truth.org/justice-rising/?utm_sourc...   \n7   https://911truth.org/fbi-agent-sought-cia-help...   \n8   https://911truth.org/aa-flight-77-at-the-penta...   \n9   https://911truth.org/fascinating-forgotten-fac...   \n10  https://911truth.org/fascinating-forgotten-fac...   \n\n                          published  published_utc  collection_utc  \n0   Sun, 26 Apr 2020 08:41:43 +0000     1587904903      1587900619  \n1   Mon, 27 Apr 2020 04:49:51 +0000     1587977391      1587987017  \n2   Wed, 29 Apr 2020 23:27:39 +0000     1588217259      1588206618  \n3   Tue, 25 Aug 2020 07:35:25 +0000     1598355325      1598355029  \n4   Tue, 25 Aug 2020 07:26:07 +0000     1598354767      1598355029  \n5   Thu, 03 Sep 2020 02:53:40 +0000     1599116020      1599132627  \n6   Fri, 04 Sep 2020 10:29:22 +0000     1599229762      1599219033  \n7   Fri, 04 Sep 2020 07:56:25 +0000     1599220585      1599219035  \n8   Fri, 23 Oct 2020 16:53:34 +0000     1603486414      1603499427  \n9   Tue, 08 Dec 2020 00:56:02 +0000     1607406962      1607391026  \n10  Tue, 08 Dec 2020 00:56:02 +0000     1607406962      1607776547  ",
      "text/html": "<div>\n<style scoped>\n    .dataframe tbody tr th:only-of-type {\n        vertical-align: middle;\n    }\n\n    .dataframe tbody tr th {\n        vertical-align: top;\n    }\n\n    .dataframe thead th {\n        text-align: right;\n    }\n</style>\n<table border=\"1\" class=\"dataframe\">\n  <thead>\n    <tr style=\"text-align: right;\">\n      <th></th>\n      <th>id</th>\n      <th>date</th>\n      <th>source</th>\n      <th>title</th>\n      <th>content</th>\n      <th>author</th>\n      <th>url</th>\n      <th>published</th>\n      <th>published_utc</th>\n      <th>collection_utc</th>\n    </tr>\n  </thead>\n  <tbody>\n    <tr>\n      <th>0</th>\n      <td>911truthorg--2020-04-26--9/11 Families, Expert...</td>\n      <td>2020-04-26</td>\n      <td>911truthorg</td>\n      <td>9/11 Families, Experts Mount Unprecedented Cha...</td>\n      <td>Family members of those who died on September ...</td>\n      <td>Richard Gage</td>\n      <td>https://911truth.org/9-11-families-experts-mou...</td>\n      <td>Sun, 26 Apr 2020 08:41:43 +0000</td>\n      <td>1587904903</td>\n      <td>1587900619</td>\n    </tr>\n    <tr>\n      <th>1</th>\n      <td>911truthorg--2020-04-27--Barr, Grenell block 9...</td>\n      <td>2020-04-27</td>\n      <td>911truthorg</td>\n      <td>Barr, Grenell block 9/11 families access to ev...</td>\n      <td>U.S. Attorney General William Barr and acting ...</td>\n      <td>Dan Christensen</td>\n      <td>https://911truth.org/barr-grenell-block-9-11-f...</td>\n      <td>Mon, 27 Apr 2020 04:49:51 +0000</td>\n      <td>1587977391</td>\n      <td>1587987017</td>\n    </tr>\n    <tr>\n      <th>2</th>\n      <td>911truthorg--2020-04-29--9/11 Truth and Giulie...</td>\n      <td>2020-04-29</td>\n      <td>911truthorg</td>\n      <td>9/11 Truth and Giulietto Chiesa, His Legacy Wi...</td>\n      <td>The 9/11 Consensus Panel mourns the loss of th...</td>\n      <td>Elizabeth Woodworth</td>\n      <td>https://911truth.org/9-11-truth-and-giulietto-...</td>\n      <td>Wed, 29 Apr 2020 23:27:39 +0000</td>\n      <td>1588217259</td>\n      <td>1588206618</td>\n    </tr>\n    <tr>\n      <th>3</th>\n      <td>911truthorg--2020-08-25--“Fraud and Apocalypse...</td>\n      <td>2020-08-25</td>\n      <td>911truthorg</td>\n      <td>“Fraud and Apocalypse” Presentation by Richard...</td>\n      <td>Professor Richard Behan to Discuss His New Boo...</td>\n      <td>Fran Shure</td>\n      <td>https://911truth.org/fraud-and-apocalypse-pres...</td>\n      <td>Tue, 25 Aug 2020 07:35:25 +0000</td>\n      <td>1598355325</td>\n      <td>1598355029</td>\n    </tr>\n    <tr>\n      <th>4</th>\n      <td>911truthorg--2020-08-25--The 16th Annual 9/11 ...</td>\n      <td>2020-08-25</td>\n      <td>911truthorg</td>\n      <td>The 16th Annual 9/11 Truth Film Festival: A Ba...</td>\n      <td>This year ’ s Film Festival is dedicated to th...</td>\n      <td>Carol Brouillet</td>\n      <td>https://911truth.org/the-16th-annual-9-11-trut...</td>\n      <td>Tue, 25 Aug 2020 07:26:07 +0000</td>\n      <td>1598354767</td>\n      <td>1598355029</td>\n    </tr>\n    <tr>\n      <th>5</th>\n      <td>911truthorg--2020-09-03--International Relatio...</td>\n      <td>2020-09-03</td>\n      <td>911truthorg</td>\n      <td>International Relations Scholars Fall Silent o...</td>\n      <td>International Relations ( IR ) scholars uncrit...</td>\n      <td>David Hughes</td>\n      <td>https://911truth.org/international-relations-s...</td>\n      <td>Thu, 03 Sep 2020 02:53:40 +0000</td>\n      <td>1599116020</td>\n      <td>1599132627</td>\n    </tr>\n    <tr>\n      <th>6</th>\n      <td>911truthorg--2020-09-04--Justice Rising: Live ...</td>\n      <td>2020-09-04</td>\n      <td>911truthorg</td>\n      <td>Justice Rising: Live Conference</td>\n      <td>Architects &amp; Engineers for 9/11 Truth is thril...</td>\n      <td>Staff</td>\n      <td>https://911truth.org/justice-rising/?utm_sourc...</td>\n      <td>Fri, 04 Sep 2020 10:29:22 +0000</td>\n      <td>1599229762</td>\n      <td>1599219033</td>\n    </tr>\n    <tr>\n      <th>7</th>\n      <td>911truthorg--2020-09-04--FBI agent sought CIA ...</td>\n      <td>2020-09-04</td>\n      <td>911truthorg</td>\n      <td>FBI agent sought CIA help to investigate Saras...</td>\n      <td>The FBI agent who led the post 9/11 investigat...</td>\n      <td>Dan Christensen</td>\n      <td>https://911truth.org/fbi-agent-sought-cia-help...</td>\n      <td>Fri, 04 Sep 2020 07:56:25 +0000</td>\n      <td>1599220585</td>\n      <td>1599219035</td>\n    </tr>\n    <tr>\n      <th>8</th>\n      <td>911truthorg--2020-10-23--AA Flight 77 at the P...</td>\n      <td>2020-10-23</td>\n      <td>911truthorg</td>\n      <td>AA Flight 77 at the Pentagon</td>\n      <td>AA Flight 77 at the Pentagon Panel Presentatio...</td>\n      <td>Fran Shure</td>\n      <td>https://911truth.org/aa-flight-77-at-the-penta...</td>\n      <td>Fri, 23 Oct 2020 16:53:34 +0000</td>\n      <td>1603486414</td>\n      <td>1603499427</td>\n    </tr>\n    <tr>\n      <th>9</th>\n      <td>911truthorg--2020-12-08--Fascinating Forgotten...</td>\n      <td>2020-12-08</td>\n      <td>911truthorg</td>\n      <td>Fascinating Forgotten Facts about 9/11: Zoom P...</td>\n      <td>Colorado 9/11 Truth and 911Truth.Org will host...</td>\n      <td>Staff</td>\n      <td>https://911truth.org/fascinating-forgotten-fac...</td>\n      <td>Tue, 08 Dec 2020 00:56:02 +0000</td>\n      <td>1607406962</td>\n      <td>1607391026</td>\n    </tr>\n    <tr>\n      <th>10</th>\n      <td>911truthorg--2020-12-08--Join our Live Zoom Pr...</td>\n      <td>2020-12-08</td>\n      <td>911truthorg</td>\n      <td>Join our Live Zoom Presentation: Fascinating F...</td>\n      <td>Colorado 9/11 Truth and 911Truth.Org will host...</td>\n      <td>Staff</td>\n      <td>https://911truth.org/fascinating-forgotten-fac...</td>\n      <td>Tue, 08 Dec 2020 00:56:02 +0000</td>\n      <td>1607406962</td>\n      <td>1607776547</td>\n    </tr>\n  </tbody>\n</table>\n</div>"
     },
     "execution_count": 7,
     "metadata": {},
     "output_type": "execute_result"
    }
   ],
   "source": [
    "import pandas as pds\n",
    "import json\n",
    "open_file = open(\".\\\\Dataset\\\\temp_testing\\\\911truthorg.json\", 'r')\n",
    "file_data = open_file.read()\n",
    "pds.DataFrame(json.loads(file_data))\n",
    "# df = pds.DataFrame(json.loads(file_data))"
   ],
   "metadata": {
    "collapsed": false
   }
  },
  {
   "cell_type": "code",
   "execution_count": null,
   "outputs": [],
   "source": [
    "import pandas as pds\n",
    "import json\n",
    "open_file = open(\".\\\\Dataset\\\\temp_testing\\\\911truthorg.json\", 'r')\n",
    "file_data = open_file.read()\n",
    "df = pds.DataFrame(json.loads(file_data))\n"
   ],
   "metadata": {
    "collapsed": false,
    "pycharm": {
     "is_executing": true
    }
   }
  },
  {
   "cell_type": "code",
   "execution_count": 12,
   "outputs": [
    {
     "name": "stderr",
     "output_type": "stream",
     "text": [
      "C:\\Users\\taham\\AppData\\Local\\Temp\\ipykernel_5088\\744818137.py:1: FutureWarning: The default value of regex will change from True to False in a future version.\n",
      "  df[\"content\"] = df[\"content\"].str.replace('[^\\w\\s]','')\n"
     ]
    }
   ],
   "source": [
    "df[\"content\"] = df[\"content\"].str.replace('[^\\w\\s]','')\n"
   ],
   "metadata": {
    "collapsed": false
   }
  },
  {
   "cell_type": "code",
   "execution_count": 12,
   "outputs": [],
   "source": [
    "import pandas as pds\n",
    "\n",
    "df = df[\"content\"].str.replace('[^\\w\\s]','')\n"
   ],
   "metadata": {
    "collapsed": false
   }
  },
  {
   "cell_type": "code",
   "execution_count": 10,
   "outputs": [],
   "source": [],
   "metadata": {
    "collapsed": false
   }
  }
 ],
 "metadata": {
  "kernelspec": {
   "display_name": "Python 3",
   "language": "python",
   "name": "python3"
  },
  "language_info": {
   "codemirror_mode": {
    "name": "ipython",
    "version": 2
   },
   "file_extension": ".py",
   "mimetype": "text/x-python",
   "name": "python",
   "nbconvert_exporter": "python",
   "pygments_lexer": "ipython2",
   "version": "2.7.6"
  }
 },
 "nbformat": 4,
 "nbformat_minor": 0
}
